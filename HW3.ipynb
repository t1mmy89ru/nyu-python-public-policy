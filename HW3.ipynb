{
  "nbformat": 4,
  "nbformat_minor": 0,
  "metadata": {
    "colab": {
      "name": "HW3.ipynb",
      "provenance": [],
      "collapsed_sections": [],
      "include_colab_link": true
    },
    "kernelspec": {
      "name": "python3",
      "display_name": "Python 3"
    }
  },
  "cells": [
    {
      "cell_type": "markdown",
      "metadata": {
        "id": "view-in-github",
        "colab_type": "text"
      },
      "source": [
        "<a href=\"https://colab.research.google.com/github/t1mmy89ru/nyu-python-public-policy/blob/master/HW3.ipynb\" target=\"_parent\"><img src=\"https://colab.research.google.com/assets/colab-badge.svg\" alt=\"Open In Colab\"/></a>"
      ]
    },
    {
      "cell_type": "code",
      "metadata": {
        "id": "iC3t5U4RQN-w",
        "colab_type": "code",
        "colab": {}
      },
      "source": [
        "import pandas as pd\n",
        "from google.colab import drive"
      ],
      "execution_count": 0,
      "outputs": []
    },
    {
      "cell_type": "code",
      "metadata": {
        "id": "wk4z9uz2RizR",
        "colab_type": "code",
        "outputId": "6268277e-fd1a-4af7-b2fc-55bcefc8b32b",
        "colab": {
          "base_uri": "https://localhost:8080/",
          "height": 129
        }
      },
      "source": [
        "drive.mount('/content/drive')\n"
      ],
      "execution_count": 3,
      "outputs": [
        {
          "output_type": "stream",
          "text": [
            "Go to this URL in a browser: https://accounts.google.com/o/oauth2/auth?client_id=947318989803-6bn6qk8qdgf4n4g3pfee6491hc0brc4i.apps.googleusercontent.com&redirect_uri=urn%3aietf%3awg%3aoauth%3a2.0%3aoob&response_type=code&scope=email%20https%3a%2f%2fwww.googleapis.com%2fauth%2fdocs.test%20https%3a%2f%2fwww.googleapis.com%2fauth%2fdrive%20https%3a%2f%2fwww.googleapis.com%2fauth%2fdrive.photos.readonly%20https%3a%2f%2fwww.googleapis.com%2fauth%2fpeopleapi.readonly\n",
            "\n",
            "Enter your authorization code:\n",
            "··········\n",
            "Mounted at /content/drive\n"
          ],
          "name": "stdout"
        }
      ]
    },
    {
      "cell_type": "code",
      "metadata": {
        "id": "4fsAI-_KSBDy",
        "colab_type": "code",
        "colab": {}
      },
      "source": [
        "df = pd.read_csv('/content/drive/My Drive/Data for Python/cleaned_311_data_hw3.csv', header='infer')"
      ],
      "execution_count": 0,
      "outputs": []
    },
    {
      "cell_type": "code",
      "metadata": {
        "id": "l5a-NJl2SNDt",
        "colab_type": "code",
        "outputId": "ffb6ffb4-2e5a-4078-f683-29ff39462b9f",
        "colab": {
          "base_uri": "https://localhost:8080/",
          "height": 644
        }
      },
      "source": [
        "df_filtered = df[['complaint_type','descriptor','community_board']]\n",
        "df_filtered['complaint_type'] = df_filtered['complaint_type'].str.lower() \n",
        "df_filtered['descriptor'] = df_filtered['descriptor'].str.lower() \n",
        "df_filtered\n"
      ],
      "execution_count": 7,
      "outputs": [
        {
          "output_type": "stream",
          "text": [
            "/usr/local/lib/python3.6/dist-packages/ipykernel_launcher.py:2: SettingWithCopyWarning: \n",
            "A value is trying to be set on a copy of a slice from a DataFrame.\n",
            "Try using .loc[row_indexer,col_indexer] = value instead\n",
            "\n",
            "See the caveats in the documentation: http://pandas.pydata.org/pandas-docs/stable/user_guide/indexing.html#returning-a-view-versus-a-copy\n",
            "  \n",
            "/usr/local/lib/python3.6/dist-packages/ipykernel_launcher.py:3: SettingWithCopyWarning: \n",
            "A value is trying to be set on a copy of a slice from a DataFrame.\n",
            "Try using .loc[row_indexer,col_indexer] = value instead\n",
            "\n",
            "See the caveats in the documentation: http://pandas.pydata.org/pandas-docs/stable/user_guide/indexing.html#returning-a-view-versus-a-copy\n",
            "  This is separate from the ipykernel package so we can avoid doing imports until\n"
          ],
          "name": "stderr"
        },
        {
          "output_type": "execute_result",
          "data": {
            "text/html": [
              "<div>\n",
              "<style scoped>\n",
              "    .dataframe tbody tr th:only-of-type {\n",
              "        vertical-align: middle;\n",
              "    }\n",
              "\n",
              "    .dataframe tbody tr th {\n",
              "        vertical-align: top;\n",
              "    }\n",
              "\n",
              "    .dataframe thead th {\n",
              "        text-align: right;\n",
              "    }\n",
              "</style>\n",
              "<table border=\"1\" class=\"dataframe\">\n",
              "  <thead>\n",
              "    <tr style=\"text-align: right;\">\n",
              "      <th></th>\n",
              "      <th>complaint_type</th>\n",
              "      <th>descriptor</th>\n",
              "      <th>community_board</th>\n",
              "    </tr>\n",
              "  </thead>\n",
              "  <tbody>\n",
              "    <tr>\n",
              "      <th>0</th>\n",
              "      <td>maintenance or facility</td>\n",
              "      <td>structure - outdoors</td>\n",
              "      <td>0 Unspecified</td>\n",
              "    </tr>\n",
              "    <tr>\n",
              "      <th>1</th>\n",
              "      <td>maintenance or facility</td>\n",
              "      <td>garbage or litter</td>\n",
              "      <td>12 QUEENS</td>\n",
              "    </tr>\n",
              "    <tr>\n",
              "      <th>2</th>\n",
              "      <td>maintenance or facility</td>\n",
              "      <td>hours of operation</td>\n",
              "      <td>01 BROOKLYN</td>\n",
              "    </tr>\n",
              "    <tr>\n",
              "      <th>3</th>\n",
              "      <td>maintenance or facility</td>\n",
              "      <td>garbage or litter</td>\n",
              "      <td>14 QUEENS</td>\n",
              "    </tr>\n",
              "    <tr>\n",
              "      <th>4</th>\n",
              "      <td>maintenance or facility</td>\n",
              "      <td>garbage or litter</td>\n",
              "      <td>07 QUEENS</td>\n",
              "    </tr>\n",
              "    <tr>\n",
              "      <th>...</th>\n",
              "      <td>...</td>\n",
              "      <td>...</td>\n",
              "      <td>...</td>\n",
              "    </tr>\n",
              "    <tr>\n",
              "      <th>64572</th>\n",
              "      <td>maintenance or facility</td>\n",
              "      <td>rodent sighting</td>\n",
              "      <td>12 MANHATTAN</td>\n",
              "    </tr>\n",
              "    <tr>\n",
              "      <th>64573</th>\n",
              "      <td>maintenance or facility</td>\n",
              "      <td>structure - outdoors</td>\n",
              "      <td>0 Unspecified</td>\n",
              "    </tr>\n",
              "    <tr>\n",
              "      <th>64574</th>\n",
              "      <td>maintenance or facility</td>\n",
              "      <td>graffiti or vandalism</td>\n",
              "      <td>07 QUEENS</td>\n",
              "    </tr>\n",
              "    <tr>\n",
              "      <th>64575</th>\n",
              "      <td>maintenance or facility</td>\n",
              "      <td>garbage or litter</td>\n",
              "      <td>03 MANHATTAN</td>\n",
              "    </tr>\n",
              "    <tr>\n",
              "      <th>64576</th>\n",
              "      <td>maintenance or facility</td>\n",
              "      <td>structure - outdoors</td>\n",
              "      <td>15 BROOKLYN</td>\n",
              "    </tr>\n",
              "  </tbody>\n",
              "</table>\n",
              "<p>64577 rows × 3 columns</p>\n",
              "</div>"
            ],
            "text/plain": [
              "                complaint_type             descriptor community_board\n",
              "0      maintenance or facility   structure - outdoors   0 Unspecified\n",
              "1      maintenance or facility      garbage or litter       12 QUEENS\n",
              "2      maintenance or facility     hours of operation     01 BROOKLYN\n",
              "3      maintenance or facility      garbage or litter       14 QUEENS\n",
              "4      maintenance or facility      garbage or litter       07 QUEENS\n",
              "...                        ...                    ...             ...\n",
              "64572  maintenance or facility        rodent sighting    12 MANHATTAN\n",
              "64573  maintenance or facility   structure - outdoors   0 Unspecified\n",
              "64574  maintenance or facility  graffiti or vandalism       07 QUEENS\n",
              "64575  maintenance or facility      garbage or litter    03 MANHATTAN\n",
              "64576  maintenance or facility   structure - outdoors     15 BROOKLYN\n",
              "\n",
              "[64577 rows x 3 columns]"
            ]
          },
          "metadata": {
            "tags": []
          },
          "execution_count": 7
        }
      ]
    },
    {
      "cell_type": "code",
      "metadata": {
        "id": "jRg2ywK9VuTC",
        "colab_type": "code",
        "colab": {}
      },
      "source": [
        "\n",
        "#step 1\n",
        "def graffiti(row):\n",
        "  if 'graffiti' in row.complaint_type:\n",
        "      return 'True'\n",
        "  elif 'graffiti' in row.descriptor and pd.notnull(row.descriptor) != False:\n",
        "      return 'True'\n",
        "  else: \n",
        "    return 'False'\n",
        "  "
      ],
      "execution_count": 0,
      "outputs": []
    },
    {
      "cell_type": "code",
      "metadata": {
        "id": "qQhDXXA5b5kP",
        "colab_type": "code",
        "outputId": "e7b6a85b-2c75-4b56-e194-b5e0cdd787a0",
        "colab": {
          "base_uri": "https://localhost:8080/",
          "height": 222
        }
      },
      "source": [
        "#step 2\n",
        "\n",
        "df_filtered['graffiti_flag'] = df_filtered.apply(graffiti, axis=1)\n",
        "df_filtered.groupby(['graffiti_flag']).size().reset_index(name='count').sort_values('graffiti_flag')\n"
      ],
      "execution_count": 44,
      "outputs": [
        {
          "output_type": "stream",
          "text": [
            "/usr/local/lib/python3.6/dist-packages/ipykernel_launcher.py:1: SettingWithCopyWarning: \n",
            "A value is trying to be set on a copy of a slice from a DataFrame.\n",
            "Try using .loc[row_indexer,col_indexer] = value instead\n",
            "\n",
            "See the caveats in the documentation: http://pandas.pydata.org/pandas-docs/stable/user_guide/indexing.html#returning-a-view-versus-a-copy\n",
            "  \"\"\"Entry point for launching an IPython kernel.\n"
          ],
          "name": "stderr"
        },
        {
          "output_type": "execute_result",
          "data": {
            "text/html": [
              "<div>\n",
              "<style scoped>\n",
              "    .dataframe tbody tr th:only-of-type {\n",
              "        vertical-align: middle;\n",
              "    }\n",
              "\n",
              "    .dataframe tbody tr th {\n",
              "        vertical-align: top;\n",
              "    }\n",
              "\n",
              "    .dataframe thead th {\n",
              "        text-align: right;\n",
              "    }\n",
              "</style>\n",
              "<table border=\"1\" class=\"dataframe\">\n",
              "  <thead>\n",
              "    <tr style=\"text-align: right;\">\n",
              "      <th></th>\n",
              "      <th>graffiti_flag</th>\n",
              "      <th>count</th>\n",
              "    </tr>\n",
              "  </thead>\n",
              "  <tbody>\n",
              "    <tr>\n",
              "      <th>0</th>\n",
              "      <td>False</td>\n",
              "      <td>38206</td>\n",
              "    </tr>\n",
              "    <tr>\n",
              "      <th>1</th>\n",
              "      <td>True</td>\n",
              "      <td>26371</td>\n",
              "    </tr>\n",
              "  </tbody>\n",
              "</table>\n",
              "</div>"
            ],
            "text/plain": [
              "  graffiti_flag  count\n",
              "0         False  38206\n",
              "1          True  26371"
            ]
          },
          "metadata": {
            "tags": []
          },
          "execution_count": 44
        }
      ]
    },
    {
      "cell_type": "code",
      "metadata": {
        "id": "ZLfGbitzMprn",
        "colab_type": "code",
        "colab": {
          "base_uri": "https://localhost:8080/",
          "height": 424
        },
        "outputId": "1d13ab32-7720-4a8d-b2e2-343c3cf64995"
      },
      "source": [
        "#step 3\n",
        "df_graffiti = df_filtered.loc[df_filtered['graffiti_flag'] == 'True']\n",
        "df_graffiti"
      ],
      "execution_count": 43,
      "outputs": [
        {
          "output_type": "execute_result",
          "data": {
            "text/html": [
              "<div>\n",
              "<style scoped>\n",
              "    .dataframe tbody tr th:only-of-type {\n",
              "        vertical-align: middle;\n",
              "    }\n",
              "\n",
              "    .dataframe tbody tr th {\n",
              "        vertical-align: top;\n",
              "    }\n",
              "\n",
              "    .dataframe thead th {\n",
              "        text-align: right;\n",
              "    }\n",
              "</style>\n",
              "<table border=\"1\" class=\"dataframe\">\n",
              "  <thead>\n",
              "    <tr style=\"text-align: right;\">\n",
              "      <th></th>\n",
              "      <th>complaint_type</th>\n",
              "      <th>descriptor</th>\n",
              "      <th>community_board</th>\n",
              "      <th>graffiti_flag</th>\n",
              "    </tr>\n",
              "  </thead>\n",
              "  <tbody>\n",
              "    <tr>\n",
              "      <th>8</th>\n",
              "      <td>graffiti</td>\n",
              "      <td>graffiti</td>\n",
              "      <td>Unspecified QUEENS</td>\n",
              "      <td>True</td>\n",
              "    </tr>\n",
              "    <tr>\n",
              "      <th>9</th>\n",
              "      <td>graffiti</td>\n",
              "      <td>graffiti</td>\n",
              "      <td>04 BROOKLYN</td>\n",
              "      <td>True</td>\n",
              "    </tr>\n",
              "    <tr>\n",
              "      <th>10</th>\n",
              "      <td>graffiti</td>\n",
              "      <td>graffiti</td>\n",
              "      <td>07 BRONX</td>\n",
              "      <td>True</td>\n",
              "    </tr>\n",
              "    <tr>\n",
              "      <th>12</th>\n",
              "      <td>graffiti</td>\n",
              "      <td>graffiti</td>\n",
              "      <td>07 BROOKLYN</td>\n",
              "      <td>True</td>\n",
              "    </tr>\n",
              "    <tr>\n",
              "      <th>13</th>\n",
              "      <td>graffiti</td>\n",
              "      <td>graffiti</td>\n",
              "      <td>04 BROOKLYN</td>\n",
              "      <td>True</td>\n",
              "    </tr>\n",
              "    <tr>\n",
              "      <th>...</th>\n",
              "      <td>...</td>\n",
              "      <td>...</td>\n",
              "      <td>...</td>\n",
              "      <td>...</td>\n",
              "    </tr>\n",
              "    <tr>\n",
              "      <th>64510</th>\n",
              "      <td>graffiti</td>\n",
              "      <td>police report not requested</td>\n",
              "      <td>03 STATEN ISLAND</td>\n",
              "      <td>True</td>\n",
              "    </tr>\n",
              "    <tr>\n",
              "      <th>64511</th>\n",
              "      <td>graffiti</td>\n",
              "      <td>police report requested</td>\n",
              "      <td>03 BROOKLYN</td>\n",
              "      <td>True</td>\n",
              "    </tr>\n",
              "    <tr>\n",
              "      <th>64528</th>\n",
              "      <td>graffiti</td>\n",
              "      <td>police report not requested</td>\n",
              "      <td>08 BRONX</td>\n",
              "      <td>True</td>\n",
              "    </tr>\n",
              "    <tr>\n",
              "      <th>64566</th>\n",
              "      <td>graffiti</td>\n",
              "      <td>police report not requested</td>\n",
              "      <td>01 BROOKLYN</td>\n",
              "      <td>True</td>\n",
              "    </tr>\n",
              "    <tr>\n",
              "      <th>64574</th>\n",
              "      <td>maintenance or facility</td>\n",
              "      <td>graffiti or vandalism</td>\n",
              "      <td>07 QUEENS</td>\n",
              "      <td>True</td>\n",
              "    </tr>\n",
              "  </tbody>\n",
              "</table>\n",
              "<p>26371 rows × 4 columns</p>\n",
              "</div>"
            ],
            "text/plain": [
              "                complaint_type  ... graffiti_flag\n",
              "8                     graffiti  ...          True\n",
              "9                     graffiti  ...          True\n",
              "10                    graffiti  ...          True\n",
              "12                    graffiti  ...          True\n",
              "13                    graffiti  ...          True\n",
              "...                        ...  ...           ...\n",
              "64510                 graffiti  ...          True\n",
              "64511                 graffiti  ...          True\n",
              "64528                 graffiti  ...          True\n",
              "64566                 graffiti  ...          True\n",
              "64574  maintenance or facility  ...          True\n",
              "\n",
              "[26371 rows x 4 columns]"
            ]
          },
          "metadata": {
            "tags": []
          },
          "execution_count": 43
        }
      ]
    },
    {
      "cell_type": "code",
      "metadata": {
        "id": "IuvYXA2US8Gy",
        "colab_type": "code",
        "colab": {
          "base_uri": "https://localhost:8080/",
          "height": 520
        },
        "outputId": "a5b2159d-945f-4ed3-ff56-303f79f88736"
      },
      "source": [
        "#step 4\n",
        "counts = df_graffiti.groupby(['community_board', 'graffiti_flag']).size().nlargest(15).reset_index(name='count')\n",
        "counts\n"
      ],
      "execution_count": 49,
      "outputs": [
        {
          "output_type": "execute_result",
          "data": {
            "text/html": [
              "<div>\n",
              "<style scoped>\n",
              "    .dataframe tbody tr th:only-of-type {\n",
              "        vertical-align: middle;\n",
              "    }\n",
              "\n",
              "    .dataframe tbody tr th {\n",
              "        vertical-align: top;\n",
              "    }\n",
              "\n",
              "    .dataframe thead th {\n",
              "        text-align: right;\n",
              "    }\n",
              "</style>\n",
              "<table border=\"1\" class=\"dataframe\">\n",
              "  <thead>\n",
              "    <tr style=\"text-align: right;\">\n",
              "      <th></th>\n",
              "      <th>community_board</th>\n",
              "      <th>graffiti_flag</th>\n",
              "      <th>count</th>\n",
              "    </tr>\n",
              "  </thead>\n",
              "  <tbody>\n",
              "    <tr>\n",
              "      <th>0</th>\n",
              "      <td>01 BROOKLYN</td>\n",
              "      <td>True</td>\n",
              "      <td>1797</td>\n",
              "    </tr>\n",
              "    <tr>\n",
              "      <th>1</th>\n",
              "      <td>03 MANHATTAN</td>\n",
              "      <td>True</td>\n",
              "      <td>1593</td>\n",
              "    </tr>\n",
              "    <tr>\n",
              "      <th>2</th>\n",
              "      <td>04 BROOKLYN</td>\n",
              "      <td>True</td>\n",
              "      <td>1429</td>\n",
              "    </tr>\n",
              "    <tr>\n",
              "      <th>3</th>\n",
              "      <td>03 BROOKLYN</td>\n",
              "      <td>True</td>\n",
              "      <td>1252</td>\n",
              "    </tr>\n",
              "    <tr>\n",
              "      <th>4</th>\n",
              "      <td>05 BROOKLYN</td>\n",
              "      <td>True</td>\n",
              "      <td>962</td>\n",
              "    </tr>\n",
              "    <tr>\n",
              "      <th>5</th>\n",
              "      <td>07 BROOKLYN</td>\n",
              "      <td>True</td>\n",
              "      <td>779</td>\n",
              "    </tr>\n",
              "    <tr>\n",
              "      <th>6</th>\n",
              "      <td>Unspecified BRONX</td>\n",
              "      <td>True</td>\n",
              "      <td>615</td>\n",
              "    </tr>\n",
              "    <tr>\n",
              "      <th>7</th>\n",
              "      <td>02 MANHATTAN</td>\n",
              "      <td>True</td>\n",
              "      <td>598</td>\n",
              "    </tr>\n",
              "    <tr>\n",
              "      <th>8</th>\n",
              "      <td>Unspecified BROOKLYN</td>\n",
              "      <td>True</td>\n",
              "      <td>591</td>\n",
              "    </tr>\n",
              "    <tr>\n",
              "      <th>9</th>\n",
              "      <td>01 QUEENS</td>\n",
              "      <td>True</td>\n",
              "      <td>572</td>\n",
              "    </tr>\n",
              "    <tr>\n",
              "      <th>10</th>\n",
              "      <td>0 Unspecified</td>\n",
              "      <td>True</td>\n",
              "      <td>540</td>\n",
              "    </tr>\n",
              "    <tr>\n",
              "      <th>11</th>\n",
              "      <td>12 QUEENS</td>\n",
              "      <td>True</td>\n",
              "      <td>539</td>\n",
              "    </tr>\n",
              "    <tr>\n",
              "      <th>12</th>\n",
              "      <td>12 BROOKLYN</td>\n",
              "      <td>True</td>\n",
              "      <td>532</td>\n",
              "    </tr>\n",
              "    <tr>\n",
              "      <th>13</th>\n",
              "      <td>14 BROOKLYN</td>\n",
              "      <td>True</td>\n",
              "      <td>532</td>\n",
              "    </tr>\n",
              "    <tr>\n",
              "      <th>14</th>\n",
              "      <td>08 BROOKLYN</td>\n",
              "      <td>True</td>\n",
              "      <td>505</td>\n",
              "    </tr>\n",
              "  </tbody>\n",
              "</table>\n",
              "</div>"
            ],
            "text/plain": [
              "         community_board graffiti_flag  count\n",
              "0            01 BROOKLYN          True   1797\n",
              "1           03 MANHATTAN          True   1593\n",
              "2            04 BROOKLYN          True   1429\n",
              "3            03 BROOKLYN          True   1252\n",
              "4            05 BROOKLYN          True    962\n",
              "5            07 BROOKLYN          True    779\n",
              "6      Unspecified BRONX          True    615\n",
              "7           02 MANHATTAN          True    598\n",
              "8   Unspecified BROOKLYN          True    591\n",
              "9              01 QUEENS          True    572\n",
              "10         0 Unspecified          True    540\n",
              "11             12 QUEENS          True    539\n",
              "12           12 BROOKLYN          True    532\n",
              "13           14 BROOKLYN          True    532\n",
              "14           08 BROOKLYN          True    505"
            ]
          },
          "metadata": {
            "tags": []
          },
          "execution_count": 49
        }
      ]
    }
  ]
}