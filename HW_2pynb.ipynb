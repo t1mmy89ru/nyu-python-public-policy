{
  "nbformat": 4,
  "nbformat_minor": 0,
  "metadata": {
    "colab": {
      "name": "HW.2pynb",
      "provenance": [],
      "include_colab_link": true
    },
    "kernelspec": {
      "name": "python3",
      "display_name": "Python 3"
    }
  },
  "cells": [
    {
      "cell_type": "markdown",
      "metadata": {
        "id": "view-in-github",
        "colab_type": "text"
      },
      "source": [
        "<a href=\"https://colab.research.google.com/github/t1mmy89ru/nyu-python-public-policy/blob/master/HW_2pynb.ipynb\" target=\"_parent\"><img src=\"https://colab.research.google.com/assets/colab-badge.svg\" alt=\"Open In Colab\"/></a>"
      ]
    },
    {
      "cell_type": "code",
      "metadata": {
        "id": "3Rft206sEtUV",
        "colab_type": "code",
        "colab": {}
      },
      "source": [
        "import pandas as pd\n",
        "from google.colab import drive"
      ],
      "execution_count": 0,
      "outputs": []
    },
    {
      "cell_type": "code",
      "metadata": {
        "id": "RgyO4qrpTOk1",
        "colab_type": "code",
        "colab": {
          "base_uri": "https://localhost:8080/",
          "height": 129
        },
        "outputId": "c04a154d-14ac-4fb8-af3a-59e32405b590"
      },
      "source": [
        "drive.mount('/content/drive')\n"
      ],
      "execution_count": 3,
      "outputs": [
        {
          "output_type": "stream",
          "text": [
            "Go to this URL in a browser: https://accounts.google.com/o/oauth2/auth?client_id=947318989803-6bn6qk8qdgf4n4g3pfee6491hc0brc4i.apps.googleusercontent.com&redirect_uri=urn%3Aietf%3Awg%3Aoauth%3A2.0%3Aoob&scope=email%20https%3A%2F%2Fwww.googleapis.com%2Fauth%2Fdocs.test%20https%3A%2F%2Fwww.googleapis.com%2Fauth%2Fdrive%20https%3A%2F%2Fwww.googleapis.com%2Fauth%2Fdrive.photos.readonly%20https%3A%2F%2Fwww.googleapis.com%2Fauth%2Fpeopleapi.readonly&response_type=code\n",
            "\n",
            "Enter your authorization code:\n",
            "··········\n",
            "Mounted at /content/drive\n"
          ],
          "name": "stdout"
        }
      ]
    },
    {
      "cell_type": "code",
      "metadata": {
        "id": "FejhiVI9WZf_",
        "colab_type": "code",
        "colab": {
          "base_uri": "https://localhost:8080/",
          "height": 74
        },
        "outputId": "61f5a2dc-61ec-42b2-ca8e-b61842affa9c"
      },
      "source": [
        "df = pd.read_csv('/content/drive/My Drive/Data for Python/311_Service_Requests_2018-19.csv',header='infer')"
      ],
      "execution_count": 4,
      "outputs": [
        {
          "output_type": "stream",
          "text": [
            "/usr/local/lib/python3.6/dist-packages/IPython/core/interactiveshell.py:2718: DtypeWarning: Columns (8,17,20,31,34) have mixed types. Specify dtype option on import or set low_memory=False.\n",
            "  interactivity=interactivity, compiler=compiler, result=result)\n"
          ],
          "name": "stderr"
        }
      ]
    },
    {
      "cell_type": "code",
      "metadata": {
        "id": "LbX-HAg3WgQI",
        "colab_type": "code",
        "colab": {
          "base_uri": "https://localhost:8080/",
          "height": 35
        },
        "outputId": "eac78137-33b4-4d10-a246-065c89a89263"
      },
      "source": [
        "set(df['Open Data Channel Type'])"
      ],
      "execution_count": 5,
      "outputs": [
        {
          "output_type": "execute_result",
          "data": {
            "text/plain": [
              "{'MOBILE', 'ONLINE', 'OTHER', 'PHONE', 'UNKNOWN'}"
            ]
          },
          "metadata": {
            "tags": []
          },
          "execution_count": 5
        }
      ]
    },
    {
      "cell_type": "code",
      "metadata": {
        "id": "phFm2syWe5Ef",
        "colab_type": "code",
        "colab": {
          "base_uri": "https://localhost:8080/",
          "height": 206
        },
        "outputId": "5c9fa242-fb98-4acc-dca5-e1e8cc17ba8c"
      },
      "source": [
        "df.groupby('Open Data Channel Type').size().reset_index(name='count')\n",
        "#Q1: Phone is the most used submission method"
      ],
      "execution_count": 6,
      "outputs": [
        {
          "output_type": "execute_result",
          "data": {
            "text/html": [
              "<div>\n",
              "<style scoped>\n",
              "    .dataframe tbody tr th:only-of-type {\n",
              "        vertical-align: middle;\n",
              "    }\n",
              "\n",
              "    .dataframe tbody tr th {\n",
              "        vertical-align: top;\n",
              "    }\n",
              "\n",
              "    .dataframe thead th {\n",
              "        text-align: right;\n",
              "    }\n",
              "</style>\n",
              "<table border=\"1\" class=\"dataframe\">\n",
              "  <thead>\n",
              "    <tr style=\"text-align: right;\">\n",
              "      <th></th>\n",
              "      <th>Open Data Channel Type</th>\n",
              "      <th>count</th>\n",
              "    </tr>\n",
              "  </thead>\n",
              "  <tbody>\n",
              "    <tr>\n",
              "      <th>0</th>\n",
              "      <td>MOBILE</td>\n",
              "      <td>368761</td>\n",
              "    </tr>\n",
              "    <tr>\n",
              "      <th>1</th>\n",
              "      <td>ONLINE</td>\n",
              "      <td>590003</td>\n",
              "    </tr>\n",
              "    <tr>\n",
              "      <th>2</th>\n",
              "      <td>OTHER</td>\n",
              "      <td>19269</td>\n",
              "    </tr>\n",
              "    <tr>\n",
              "      <th>3</th>\n",
              "      <td>PHONE</td>\n",
              "      <td>1463242</td>\n",
              "    </tr>\n",
              "    <tr>\n",
              "      <th>4</th>\n",
              "      <td>UNKNOWN</td>\n",
              "      <td>417925</td>\n",
              "    </tr>\n",
              "  </tbody>\n",
              "</table>\n",
              "</div>"
            ],
            "text/plain": [
              "  Open Data Channel Type    count\n",
              "0                 MOBILE   368761\n",
              "1                 ONLINE   590003\n",
              "2                  OTHER    19269\n",
              "3                  PHONE  1463242\n",
              "4                UNKNOWN   417925"
            ]
          },
          "metadata": {
            "tags": []
          },
          "execution_count": 6
        }
      ]
    },
    {
      "cell_type": "code",
      "metadata": {
        "id": "8VoB9TBEq8ou",
        "colab_type": "code",
        "colab": {
          "base_uri": "https://localhost:8080/",
          "height": 677
        },
        "outputId": "98d00b21-1c0c-4293-edf1-087cb86d66f6"
      },
      "source": [
        "channel_counts = df.groupby(['Complaint Type', 'Open Data Channel Type']).size().nlargest(20).reset_index(name='count')\n",
        "channel_counts.sort_values(['Complaint Type', 'Open Data Channel Type'], ascending=[False,True])\n",
        "#Q2: The phone seems to be the most popular method for complaints related to housing (e.g., water, plumbing, residential). For those issues, online methods\n",
        "#rank second. Mobile methods seems more popular for complaints related to traffic.\n"
      ],
      "execution_count": 27,
      "outputs": [
        {
          "output_type": "execute_result",
          "data": {
            "text/html": [
              "<div>\n",
              "<style scoped>\n",
              "    .dataframe tbody tr th:only-of-type {\n",
              "        vertical-align: middle;\n",
              "    }\n",
              "\n",
              "    .dataframe tbody tr th {\n",
              "        vertical-align: top;\n",
              "    }\n",
              "\n",
              "    .dataframe thead th {\n",
              "        text-align: right;\n",
              "    }\n",
              "</style>\n",
              "<table border=\"1\" class=\"dataframe\">\n",
              "  <thead>\n",
              "    <tr style=\"text-align: right;\">\n",
              "      <th></th>\n",
              "      <th>Complaint Type</th>\n",
              "      <th>Open Data Channel Type</th>\n",
              "      <th>count</th>\n",
              "    </tr>\n",
              "  </thead>\n",
              "  <tbody>\n",
              "    <tr>\n",
              "      <th>18</th>\n",
              "      <td>Water System</td>\n",
              "      <td>PHONE</td>\n",
              "      <td>40974</td>\n",
              "    </tr>\n",
              "    <tr>\n",
              "      <th>8</th>\n",
              "      <td>UNSANITARY CONDITION</td>\n",
              "      <td>PHONE</td>\n",
              "      <td>63619</td>\n",
              "    </tr>\n",
              "    <tr>\n",
              "      <th>15</th>\n",
              "      <td>Traffic Signal Condition</td>\n",
              "      <td>UNKNOWN</td>\n",
              "      <td>42506</td>\n",
              "    </tr>\n",
              "    <tr>\n",
              "      <th>5</th>\n",
              "      <td>Street Light Condition</td>\n",
              "      <td>UNKNOWN</td>\n",
              "      <td>77755</td>\n",
              "    </tr>\n",
              "    <tr>\n",
              "      <th>9</th>\n",
              "      <td>Street Condition</td>\n",
              "      <td>UNKNOWN</td>\n",
              "      <td>61508</td>\n",
              "    </tr>\n",
              "    <tr>\n",
              "      <th>0</th>\n",
              "      <td>Request Large Bulky Item Collection</td>\n",
              "      <td>PHONE</td>\n",
              "      <td>177175</td>\n",
              "    </tr>\n",
              "    <tr>\n",
              "      <th>16</th>\n",
              "      <td>PLUMBING</td>\n",
              "      <td>PHONE</td>\n",
              "      <td>42149</td>\n",
              "    </tr>\n",
              "    <tr>\n",
              "      <th>14</th>\n",
              "      <td>PAINT/PLASTER</td>\n",
              "      <td>PHONE</td>\n",
              "      <td>46163</td>\n",
              "    </tr>\n",
              "    <tr>\n",
              "      <th>17</th>\n",
              "      <td>Noise - Street/Sidewalk</td>\n",
              "      <td>MOBILE</td>\n",
              "      <td>41213</td>\n",
              "    </tr>\n",
              "    <tr>\n",
              "      <th>13</th>\n",
              "      <td>Noise - Residential</td>\n",
              "      <td>MOBILE</td>\n",
              "      <td>51889</td>\n",
              "    </tr>\n",
              "    <tr>\n",
              "      <th>4</th>\n",
              "      <td>Noise - Residential</td>\n",
              "      <td>ONLINE</td>\n",
              "      <td>89050</td>\n",
              "    </tr>\n",
              "    <tr>\n",
              "      <th>2</th>\n",
              "      <td>Noise - Residential</td>\n",
              "      <td>PHONE</td>\n",
              "      <td>95407</td>\n",
              "    </tr>\n",
              "    <tr>\n",
              "      <th>6</th>\n",
              "      <td>Illegal Parking</td>\n",
              "      <td>MOBILE</td>\n",
              "      <td>75784</td>\n",
              "    </tr>\n",
              "    <tr>\n",
              "      <th>10</th>\n",
              "      <td>Illegal Parking</td>\n",
              "      <td>ONLINE</td>\n",
              "      <td>55417</td>\n",
              "    </tr>\n",
              "    <tr>\n",
              "      <th>7</th>\n",
              "      <td>Illegal Parking</td>\n",
              "      <td>PHONE</td>\n",
              "      <td>63957</td>\n",
              "    </tr>\n",
              "    <tr>\n",
              "      <th>19</th>\n",
              "      <td>HEAT/HOT WATER</td>\n",
              "      <td>MOBILE</td>\n",
              "      <td>39848</td>\n",
              "    </tr>\n",
              "    <tr>\n",
              "      <th>12</th>\n",
              "      <td>HEAT/HOT WATER</td>\n",
              "      <td>ONLINE</td>\n",
              "      <td>54872</td>\n",
              "    </tr>\n",
              "    <tr>\n",
              "      <th>1</th>\n",
              "      <td>HEAT/HOT WATER</td>\n",
              "      <td>PHONE</td>\n",
              "      <td>128002</td>\n",
              "    </tr>\n",
              "    <tr>\n",
              "      <th>11</th>\n",
              "      <td>General Construction/Plumbing</td>\n",
              "      <td>UNKNOWN</td>\n",
              "      <td>54939</td>\n",
              "    </tr>\n",
              "    <tr>\n",
              "      <th>3</th>\n",
              "      <td>Blocked Driveway</td>\n",
              "      <td>PHONE</td>\n",
              "      <td>95206</td>\n",
              "    </tr>\n",
              "  </tbody>\n",
              "</table>\n",
              "</div>"
            ],
            "text/plain": [
              "                         Complaint Type Open Data Channel Type   count\n",
              "18                         Water System                  PHONE   40974\n",
              "8                  UNSANITARY CONDITION                  PHONE   63619\n",
              "15             Traffic Signal Condition                UNKNOWN   42506\n",
              "5                Street Light Condition                UNKNOWN   77755\n",
              "9                      Street Condition                UNKNOWN   61508\n",
              "0   Request Large Bulky Item Collection                  PHONE  177175\n",
              "16                             PLUMBING                  PHONE   42149\n",
              "14                        PAINT/PLASTER                  PHONE   46163\n",
              "17              Noise - Street/Sidewalk                 MOBILE   41213\n",
              "13                  Noise - Residential                 MOBILE   51889\n",
              "4                   Noise - Residential                 ONLINE   89050\n",
              "2                   Noise - Residential                  PHONE   95407\n",
              "6                       Illegal Parking                 MOBILE   75784\n",
              "10                      Illegal Parking                 ONLINE   55417\n",
              "7                       Illegal Parking                  PHONE   63957\n",
              "19                       HEAT/HOT WATER                 MOBILE   39848\n",
              "12                       HEAT/HOT WATER                 ONLINE   54872\n",
              "1                        HEAT/HOT WATER                  PHONE  128002\n",
              "11        General Construction/Plumbing                UNKNOWN   54939\n",
              "3                      Blocked Driveway                  PHONE   95206"
            ]
          },
          "metadata": {
            "tags": []
          },
          "execution_count": 27
        }
      ]
    },
    {
      "cell_type": "code",
      "metadata": {
        "id": "DSomHrjnfmji",
        "colab_type": "code",
        "outputId": "2de732d1-8a77-4168-bb46-4665625edd2f",
        "colab": {
          "base_uri": "https://localhost:8080/",
          "height": 489
        }
      },
      "source": [
        "channel_counts.sort_values(['count', 'Open Data Channel Type'], ascending=[False,True]).drop_duplicates(['Complaint Type'])\n",
        "#Q3 Simplified table capturing most common submission method by compaint type\n"
      ],
      "execution_count": 28,
      "outputs": [
        {
          "output_type": "execute_result",
          "data": {
            "text/html": [
              "<div>\n",
              "<style scoped>\n",
              "    .dataframe tbody tr th:only-of-type {\n",
              "        vertical-align: middle;\n",
              "    }\n",
              "\n",
              "    .dataframe tbody tr th {\n",
              "        vertical-align: top;\n",
              "    }\n",
              "\n",
              "    .dataframe thead th {\n",
              "        text-align: right;\n",
              "    }\n",
              "</style>\n",
              "<table border=\"1\" class=\"dataframe\">\n",
              "  <thead>\n",
              "    <tr style=\"text-align: right;\">\n",
              "      <th></th>\n",
              "      <th>Complaint Type</th>\n",
              "      <th>Open Data Channel Type</th>\n",
              "      <th>count</th>\n",
              "    </tr>\n",
              "  </thead>\n",
              "  <tbody>\n",
              "    <tr>\n",
              "      <th>0</th>\n",
              "      <td>Request Large Bulky Item Collection</td>\n",
              "      <td>PHONE</td>\n",
              "      <td>177175</td>\n",
              "    </tr>\n",
              "    <tr>\n",
              "      <th>1</th>\n",
              "      <td>HEAT/HOT WATER</td>\n",
              "      <td>PHONE</td>\n",
              "      <td>128002</td>\n",
              "    </tr>\n",
              "    <tr>\n",
              "      <th>2</th>\n",
              "      <td>Noise - Residential</td>\n",
              "      <td>PHONE</td>\n",
              "      <td>95407</td>\n",
              "    </tr>\n",
              "    <tr>\n",
              "      <th>3</th>\n",
              "      <td>Blocked Driveway</td>\n",
              "      <td>PHONE</td>\n",
              "      <td>95206</td>\n",
              "    </tr>\n",
              "    <tr>\n",
              "      <th>5</th>\n",
              "      <td>Street Light Condition</td>\n",
              "      <td>UNKNOWN</td>\n",
              "      <td>77755</td>\n",
              "    </tr>\n",
              "    <tr>\n",
              "      <th>6</th>\n",
              "      <td>Illegal Parking</td>\n",
              "      <td>MOBILE</td>\n",
              "      <td>75784</td>\n",
              "    </tr>\n",
              "    <tr>\n",
              "      <th>8</th>\n",
              "      <td>UNSANITARY CONDITION</td>\n",
              "      <td>PHONE</td>\n",
              "      <td>63619</td>\n",
              "    </tr>\n",
              "    <tr>\n",
              "      <th>9</th>\n",
              "      <td>Street Condition</td>\n",
              "      <td>UNKNOWN</td>\n",
              "      <td>61508</td>\n",
              "    </tr>\n",
              "    <tr>\n",
              "      <th>11</th>\n",
              "      <td>General Construction/Plumbing</td>\n",
              "      <td>UNKNOWN</td>\n",
              "      <td>54939</td>\n",
              "    </tr>\n",
              "    <tr>\n",
              "      <th>14</th>\n",
              "      <td>PAINT/PLASTER</td>\n",
              "      <td>PHONE</td>\n",
              "      <td>46163</td>\n",
              "    </tr>\n",
              "    <tr>\n",
              "      <th>15</th>\n",
              "      <td>Traffic Signal Condition</td>\n",
              "      <td>UNKNOWN</td>\n",
              "      <td>42506</td>\n",
              "    </tr>\n",
              "    <tr>\n",
              "      <th>16</th>\n",
              "      <td>PLUMBING</td>\n",
              "      <td>PHONE</td>\n",
              "      <td>42149</td>\n",
              "    </tr>\n",
              "    <tr>\n",
              "      <th>17</th>\n",
              "      <td>Noise - Street/Sidewalk</td>\n",
              "      <td>MOBILE</td>\n",
              "      <td>41213</td>\n",
              "    </tr>\n",
              "    <tr>\n",
              "      <th>18</th>\n",
              "      <td>Water System</td>\n",
              "      <td>PHONE</td>\n",
              "      <td>40974</td>\n",
              "    </tr>\n",
              "  </tbody>\n",
              "</table>\n",
              "</div>"
            ],
            "text/plain": [
              "                         Complaint Type Open Data Channel Type   count\n",
              "0   Request Large Bulky Item Collection                  PHONE  177175\n",
              "1                        HEAT/HOT WATER                  PHONE  128002\n",
              "2                   Noise - Residential                  PHONE   95407\n",
              "3                      Blocked Driveway                  PHONE   95206\n",
              "5                Street Light Condition                UNKNOWN   77755\n",
              "6                       Illegal Parking                 MOBILE   75784\n",
              "8                  UNSANITARY CONDITION                  PHONE   63619\n",
              "9                      Street Condition                UNKNOWN   61508\n",
              "11        General Construction/Plumbing                UNKNOWN   54939\n",
              "14                        PAINT/PLASTER                  PHONE   46163\n",
              "15             Traffic Signal Condition                UNKNOWN   42506\n",
              "16                             PLUMBING                  PHONE   42149\n",
              "17              Noise - Street/Sidewalk                 MOBILE   41213\n",
              "18                         Water System                  PHONE   40974"
            ]
          },
          "metadata": {
            "tags": []
          },
          "execution_count": 28
        }
      ]
    }
  ]
}